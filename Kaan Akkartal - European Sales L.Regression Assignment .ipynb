{
 "cells": [
  {
   "cell_type": "markdown",
   "metadata": {},
   "source": [
    "# Find Best Performing Linear Regression Model using European Sales Dataset\n"
   ]
  },
  {
   "cell_type": "markdown",
   "metadata": {},
   "source": [
    "### Kaan Akkartal 2020661"
   ]
  },
  {
   "cell_type": "markdown",
   "metadata": {},
   "source": [
    "# 1. Library and Data Loading "
   ]
  },
  {
   "cell_type": "code",
   "execution_count": 1,
   "metadata": {},
   "outputs": [],
   "source": [
    "import numpy as np\n",
    "import pandas as pd \n",
    "import matplotlib.pyplot as plt\n",
    "import seaborn as sns\n",
    "from matplotlib import rcParams"
   ]
  },
  {
   "cell_type": "code",
   "execution_count": 2,
   "metadata": {},
   "outputs": [
    {
     "data": {
      "text/html": [
       "<div>\n",
       "<style scoped>\n",
       "    .dataframe tbody tr th:only-of-type {\n",
       "        vertical-align: middle;\n",
       "    }\n",
       "\n",
       "    .dataframe tbody tr th {\n",
       "        vertical-align: top;\n",
       "    }\n",
       "\n",
       "    .dataframe thead th {\n",
       "        text-align: right;\n",
       "    }\n",
       "</style>\n",
       "<table border=\"1\" class=\"dataframe\">\n",
       "  <thead>\n",
       "    <tr style=\"text-align: right;\">\n",
       "      <th></th>\n",
       "      <th>Country</th>\n",
       "      <th>Population</th>\n",
       "      <th>GDPperHead</th>\n",
       "      <th>UnemploymentRate</th>\n",
       "      <th>EducationSpending</th>\n",
       "      <th>SalesPerCapita</th>\n",
       "      <th>ComputerSales</th>\n",
       "    </tr>\n",
       "  </thead>\n",
       "  <tbody>\n",
       "    <tr>\n",
       "      <th>0</th>\n",
       "      <td>Austria</td>\n",
       "      <td>8.4</td>\n",
       "      <td>49.60</td>\n",
       "      <td>4.2</td>\n",
       "      <td>5.8</td>\n",
       "      <td>112</td>\n",
       "      <td>941</td>\n",
       "    </tr>\n",
       "    <tr>\n",
       "      <th>1</th>\n",
       "      <td>Belgium</td>\n",
       "      <td>10.5</td>\n",
       "      <td>47.09</td>\n",
       "      <td>8.1</td>\n",
       "      <td>5.9</td>\n",
       "      <td>160</td>\n",
       "      <td>1682</td>\n",
       "    </tr>\n",
       "    <tr>\n",
       "      <th>2</th>\n",
       "      <td>Bulgaria</td>\n",
       "      <td>7.6</td>\n",
       "      <td>6.55</td>\n",
       "      <td>13.5</td>\n",
       "      <td>3.5</td>\n",
       "      <td>20</td>\n",
       "      <td>154</td>\n",
       "    </tr>\n",
       "    <tr>\n",
       "      <th>3</th>\n",
       "      <td>Czech Rep.</td>\n",
       "      <td>10.2</td>\n",
       "      <td>20.67</td>\n",
       "      <td>6.6</td>\n",
       "      <td>4.4</td>\n",
       "      <td>101</td>\n",
       "      <td>1029</td>\n",
       "    </tr>\n",
       "    <tr>\n",
       "      <th>4</th>\n",
       "      <td>Denmark</td>\n",
       "      <td>5.5</td>\n",
       "      <td>62.12</td>\n",
       "      <td>5.2</td>\n",
       "      <td>8.4</td>\n",
       "      <td>170</td>\n",
       "      <td>935</td>\n",
       "    </tr>\n",
       "  </tbody>\n",
       "</table>\n",
       "</div>"
      ],
      "text/plain": [
       "      Country  Population  GDPperHead  UnemploymentRate  EducationSpending  \\\n",
       "0     Austria         8.4       49.60               4.2                5.8   \n",
       "1     Belgium        10.5       47.09               8.1                5.9   \n",
       "2    Bulgaria         7.6        6.55              13.5                3.5   \n",
       "3  Czech Rep.        10.2       20.67               6.6                4.4   \n",
       "4     Denmark         5.5       62.12               5.2                8.4   \n",
       "\n",
       "   SalesPerCapita  ComputerSales  \n",
       "0             112            941  \n",
       "1             160           1682  \n",
       "2              20            154  \n",
       "3             101           1029  \n",
       "4             170            935  "
      ]
     },
     "execution_count": 2,
     "metadata": {},
     "output_type": "execute_result"
    }
   ],
   "source": [
    "sales = pd.read_csv(\"EuropeanSales.csv\")\n",
    "df = sales.copy()\n",
    "df.head()"
   ]
  },
  {
   "cell_type": "markdown",
   "metadata": {},
   "source": [
    "# 2. Descriptive Data Analysis"
   ]
  },
  {
   "cell_type": "markdown",
   "metadata": {},
   "source": [
    "Dataset has few observations. It contains sales per capita and total computer sales of 21 countries with some features."
   ]
  },
  {
   "cell_type": "code",
   "execution_count": 3,
   "metadata": {
    "scrolled": false
   },
   "outputs": [
    {
     "data": {
      "text/html": [
       "<div>\n",
       "<style scoped>\n",
       "    .dataframe tbody tr th:only-of-type {\n",
       "        vertical-align: middle;\n",
       "    }\n",
       "\n",
       "    .dataframe tbody tr th {\n",
       "        vertical-align: top;\n",
       "    }\n",
       "\n",
       "    .dataframe thead th {\n",
       "        text-align: right;\n",
       "    }\n",
       "</style>\n",
       "<table border=\"1\" class=\"dataframe\">\n",
       "  <thead>\n",
       "    <tr style=\"text-align: right;\">\n",
       "      <th></th>\n",
       "      <th>Country</th>\n",
       "      <th>Population</th>\n",
       "      <th>GDPperHead</th>\n",
       "      <th>UnemploymentRate</th>\n",
       "      <th>EducationSpending</th>\n",
       "      <th>SalesPerCapita</th>\n",
       "      <th>ComputerSales</th>\n",
       "    </tr>\n",
       "  </thead>\n",
       "  <tbody>\n",
       "    <tr>\n",
       "      <th>0</th>\n",
       "      <td>Austria</td>\n",
       "      <td>8.4</td>\n",
       "      <td>49.60</td>\n",
       "      <td>4.2</td>\n",
       "      <td>5.8</td>\n",
       "      <td>112</td>\n",
       "      <td>941</td>\n",
       "    </tr>\n",
       "    <tr>\n",
       "      <th>1</th>\n",
       "      <td>Belgium</td>\n",
       "      <td>10.5</td>\n",
       "      <td>47.09</td>\n",
       "      <td>8.1</td>\n",
       "      <td>5.9</td>\n",
       "      <td>160</td>\n",
       "      <td>1682</td>\n",
       "    </tr>\n",
       "    <tr>\n",
       "      <th>2</th>\n",
       "      <td>Bulgaria</td>\n",
       "      <td>7.6</td>\n",
       "      <td>6.55</td>\n",
       "      <td>13.5</td>\n",
       "      <td>3.5</td>\n",
       "      <td>20</td>\n",
       "      <td>154</td>\n",
       "    </tr>\n",
       "    <tr>\n",
       "      <th>3</th>\n",
       "      <td>Czech Rep.</td>\n",
       "      <td>10.2</td>\n",
       "      <td>20.67</td>\n",
       "      <td>6.6</td>\n",
       "      <td>4.4</td>\n",
       "      <td>101</td>\n",
       "      <td>1029</td>\n",
       "    </tr>\n",
       "    <tr>\n",
       "      <th>4</th>\n",
       "      <td>Denmark</td>\n",
       "      <td>5.5</td>\n",
       "      <td>62.12</td>\n",
       "      <td>5.2</td>\n",
       "      <td>8.4</td>\n",
       "      <td>170</td>\n",
       "      <td>935</td>\n",
       "    </tr>\n",
       "    <tr>\n",
       "      <th>5</th>\n",
       "      <td>Finland</td>\n",
       "      <td>5.3</td>\n",
       "      <td>51.32</td>\n",
       "      <td>9.9</td>\n",
       "      <td>6.3</td>\n",
       "      <td>372</td>\n",
       "      <td>1971</td>\n",
       "    </tr>\n",
       "    <tr>\n",
       "      <th>6</th>\n",
       "      <td>France</td>\n",
       "      <td>61.9</td>\n",
       "      <td>44.51</td>\n",
       "      <td>10.0</td>\n",
       "      <td>5.7</td>\n",
       "      <td>96</td>\n",
       "      <td>5929</td>\n",
       "    </tr>\n",
       "    <tr>\n",
       "      <th>7</th>\n",
       "      <td>Germany</td>\n",
       "      <td>82.5</td>\n",
       "      <td>44.45</td>\n",
       "      <td>9.1</td>\n",
       "      <td>4.6</td>\n",
       "      <td>83</td>\n",
       "      <td>6824</td>\n",
       "    </tr>\n",
       "    <tr>\n",
       "      <th>8</th>\n",
       "      <td>Greece</td>\n",
       "      <td>11.2</td>\n",
       "      <td>31.67</td>\n",
       "      <td>9.9</td>\n",
       "      <td>3.9</td>\n",
       "      <td>73</td>\n",
       "      <td>813</td>\n",
       "    </tr>\n",
       "    <tr>\n",
       "      <th>9</th>\n",
       "      <td>Hungary</td>\n",
       "      <td>10.0</td>\n",
       "      <td>15.41</td>\n",
       "      <td>7.3</td>\n",
       "      <td>5.1</td>\n",
       "      <td>45</td>\n",
       "      <td>449</td>\n",
       "    </tr>\n",
       "    <tr>\n",
       "      <th>10</th>\n",
       "      <td>Ireland</td>\n",
       "      <td>4.4</td>\n",
       "      <td>60.46</td>\n",
       "      <td>6.3</td>\n",
       "      <td>4.3</td>\n",
       "      <td>131</td>\n",
       "      <td>577</td>\n",
       "    </tr>\n",
       "    <tr>\n",
       "      <th>11</th>\n",
       "      <td>Italy</td>\n",
       "      <td>58.9</td>\n",
       "      <td>38.49</td>\n",
       "      <td>9.3</td>\n",
       "      <td>5.0</td>\n",
       "      <td>66</td>\n",
       "      <td>3858</td>\n",
       "    </tr>\n",
       "    <tr>\n",
       "      <th>12</th>\n",
       "      <td>Netherlands</td>\n",
       "      <td>16.5</td>\n",
       "      <td>52.96</td>\n",
       "      <td>4.4</td>\n",
       "      <td>5.0</td>\n",
       "      <td>131</td>\n",
       "      <td>2169</td>\n",
       "    </tr>\n",
       "    <tr>\n",
       "      <th>13</th>\n",
       "      <td>Poland</td>\n",
       "      <td>38.0</td>\n",
       "      <td>13.85</td>\n",
       "      <td>14.4</td>\n",
       "      <td>5.6</td>\n",
       "      <td>75</td>\n",
       "      <td>2847</td>\n",
       "    </tr>\n",
       "    <tr>\n",
       "      <th>14</th>\n",
       "      <td>Portugal</td>\n",
       "      <td>10.7</td>\n",
       "      <td>22.92</td>\n",
       "      <td>6.3</td>\n",
       "      <td>5.9</td>\n",
       "      <td>68</td>\n",
       "      <td>729</td>\n",
       "    </tr>\n",
       "    <tr>\n",
       "      <th>15</th>\n",
       "      <td>Romania</td>\n",
       "      <td>21.3</td>\n",
       "      <td>9.30</td>\n",
       "      <td>7.0</td>\n",
       "      <td>3.3</td>\n",
       "      <td>32</td>\n",
       "      <td>687</td>\n",
       "    </tr>\n",
       "    <tr>\n",
       "      <th>16</th>\n",
       "      <td>Spain</td>\n",
       "      <td>44.8</td>\n",
       "      <td>35.22</td>\n",
       "      <td>14.2</td>\n",
       "      <td>4.4</td>\n",
       "      <td>106</td>\n",
       "      <td>4746</td>\n",
       "    </tr>\n",
       "    <tr>\n",
       "      <th>17</th>\n",
       "      <td>Switzerland</td>\n",
       "      <td>7.5</td>\n",
       "      <td>64.43</td>\n",
       "      <td>3.6</td>\n",
       "      <td>5.6</td>\n",
       "      <td>151</td>\n",
       "      <td>1130</td>\n",
       "    </tr>\n",
       "    <tr>\n",
       "      <th>18</th>\n",
       "      <td>Sweden</td>\n",
       "      <td>9.2</td>\n",
       "      <td>51.95</td>\n",
       "      <td>6.3</td>\n",
       "      <td>7.6</td>\n",
       "      <td>230</td>\n",
       "      <td>2113</td>\n",
       "    </tr>\n",
       "    <tr>\n",
       "      <th>19</th>\n",
       "      <td>Turkey</td>\n",
       "      <td>75.8</td>\n",
       "      <td>9.94</td>\n",
       "      <td>8.6</td>\n",
       "      <td>3.7</td>\n",
       "      <td>38</td>\n",
       "      <td>2879</td>\n",
       "    </tr>\n",
       "    <tr>\n",
       "      <th>20</th>\n",
       "      <td>UK</td>\n",
       "      <td>61.0</td>\n",
       "      <td>43.54</td>\n",
       "      <td>5.9</td>\n",
       "      <td>4.8</td>\n",
       "      <td>162</td>\n",
       "      <td>9887</td>\n",
       "    </tr>\n",
       "  </tbody>\n",
       "</table>\n",
       "</div>"
      ],
      "text/plain": [
       "        Country  Population  GDPperHead  UnemploymentRate  EducationSpending  \\\n",
       "0       Austria         8.4       49.60               4.2                5.8   \n",
       "1       Belgium        10.5       47.09               8.1                5.9   \n",
       "2      Bulgaria         7.6        6.55              13.5                3.5   \n",
       "3    Czech Rep.        10.2       20.67               6.6                4.4   \n",
       "4       Denmark         5.5       62.12               5.2                8.4   \n",
       "5       Finland         5.3       51.32               9.9                6.3   \n",
       "6        France        61.9       44.51              10.0                5.7   \n",
       "7       Germany        82.5       44.45               9.1                4.6   \n",
       "8        Greece        11.2       31.67               9.9                3.9   \n",
       "9       Hungary        10.0       15.41               7.3                5.1   \n",
       "10      Ireland         4.4       60.46               6.3                4.3   \n",
       "11        Italy        58.9       38.49               9.3                5.0   \n",
       "12  Netherlands        16.5       52.96               4.4                5.0   \n",
       "13       Poland        38.0       13.85              14.4                5.6   \n",
       "14     Portugal        10.7       22.92               6.3                5.9   \n",
       "15      Romania        21.3        9.30               7.0                3.3   \n",
       "16        Spain        44.8       35.22              14.2                4.4   \n",
       "17  Switzerland         7.5       64.43               3.6                5.6   \n",
       "18       Sweden         9.2       51.95               6.3                7.6   \n",
       "19       Turkey        75.8        9.94               8.6                3.7   \n",
       "20           UK        61.0       43.54               5.9                4.8   \n",
       "\n",
       "    SalesPerCapita  ComputerSales  \n",
       "0              112            941  \n",
       "1              160           1682  \n",
       "2               20            154  \n",
       "3              101           1029  \n",
       "4              170            935  \n",
       "5              372           1971  \n",
       "6               96           5929  \n",
       "7               83           6824  \n",
       "8               73            813  \n",
       "9               45            449  \n",
       "10             131            577  \n",
       "11              66           3858  \n",
       "12             131           2169  \n",
       "13              75           2847  \n",
       "14              68            729  \n",
       "15              32            687  \n",
       "16             106           4746  \n",
       "17             151           1130  \n",
       "18             230           2113  \n",
       "19              38           2879  \n",
       "20             162           9887  "
      ]
     },
     "execution_count": 3,
     "metadata": {},
     "output_type": "execute_result"
    }
   ],
   "source": [
    "df"
   ]
  },
  {
   "cell_type": "code",
   "execution_count": 4,
   "metadata": {},
   "outputs": [
    {
     "name": "stdout",
     "output_type": "stream",
     "text": [
      "<class 'pandas.core.frame.DataFrame'>\n",
      "RangeIndex: 21 entries, 0 to 20\n",
      "Data columns (total 7 columns):\n",
      " #   Column             Non-Null Count  Dtype  \n",
      "---  ------             --------------  -----  \n",
      " 0   Country            21 non-null     object \n",
      " 1   Population         21 non-null     float64\n",
      " 2   GDPperHead         21 non-null     float64\n",
      " 3   UnemploymentRate   21 non-null     float64\n",
      " 4   EducationSpending  21 non-null     float64\n",
      " 5   SalesPerCapita     21 non-null     int64  \n",
      " 6   ComputerSales      21 non-null     int64  \n",
      "dtypes: float64(4), int64(2), object(1)\n",
      "memory usage: 1.3+ KB\n"
     ]
    }
   ],
   "source": [
    "df.info()"
   ]
  },
  {
   "cell_type": "code",
   "execution_count": 5,
   "metadata": {},
   "outputs": [
    {
     "data": {
      "text/plain": [
       "Country              0\n",
       "Population           0\n",
       "GDPperHead           0\n",
       "UnemploymentRate     0\n",
       "EducationSpending    0\n",
       "SalesPerCapita       0\n",
       "ComputerSales        0\n",
       "dtype: int64"
      ]
     },
     "execution_count": 5,
     "metadata": {},
     "output_type": "execute_result"
    }
   ],
   "source": [
    "df.isnull().sum()"
   ]
  },
  {
   "cell_type": "markdown",
   "metadata": {},
   "source": [
    "There are no missing values. "
   ]
  },
  {
   "cell_type": "code",
   "execution_count": 6,
   "metadata": {},
   "outputs": [
    {
     "data": {
      "text/html": [
       "<div>\n",
       "<style scoped>\n",
       "    .dataframe tbody tr th:only-of-type {\n",
       "        vertical-align: middle;\n",
       "    }\n",
       "\n",
       "    .dataframe tbody tr th {\n",
       "        vertical-align: top;\n",
       "    }\n",
       "\n",
       "    .dataframe thead th {\n",
       "        text-align: right;\n",
       "    }\n",
       "</style>\n",
       "<table border=\"1\" class=\"dataframe\">\n",
       "  <thead>\n",
       "    <tr style=\"text-align: right;\">\n",
       "      <th></th>\n",
       "      <th>Population</th>\n",
       "      <th>GDPperHead</th>\n",
       "      <th>UnemploymentRate</th>\n",
       "      <th>EducationSpending</th>\n",
       "      <th>SalesPerCapita</th>\n",
       "      <th>ComputerSales</th>\n",
       "    </tr>\n",
       "  </thead>\n",
       "  <tbody>\n",
       "    <tr>\n",
       "      <th>count</th>\n",
       "      <td>21.000000</td>\n",
       "      <td>21.000000</td>\n",
       "      <td>21.000000</td>\n",
       "      <td>21.000000</td>\n",
       "      <td>21.000000</td>\n",
       "      <td>21.000000</td>\n",
       "    </tr>\n",
       "    <tr>\n",
       "      <th>mean</th>\n",
       "      <td>26.723810</td>\n",
       "      <td>36.973810</td>\n",
       "      <td>8.100000</td>\n",
       "      <td>5.180952</td>\n",
       "      <td>115.333333</td>\n",
       "      <td>2492.809524</td>\n",
       "    </tr>\n",
       "    <tr>\n",
       "      <th>std</th>\n",
       "      <td>26.128929</td>\n",
       "      <td>18.654496</td>\n",
       "      <td>3.122979</td>\n",
       "      <td>1.269889</td>\n",
       "      <td>78.970459</td>\n",
       "      <td>2499.807965</td>\n",
       "    </tr>\n",
       "    <tr>\n",
       "      <th>min</th>\n",
       "      <td>4.400000</td>\n",
       "      <td>6.550000</td>\n",
       "      <td>3.600000</td>\n",
       "      <td>3.300000</td>\n",
       "      <td>20.000000</td>\n",
       "      <td>154.000000</td>\n",
       "    </tr>\n",
       "    <tr>\n",
       "      <th>25%</th>\n",
       "      <td>8.400000</td>\n",
       "      <td>20.670000</td>\n",
       "      <td>6.300000</td>\n",
       "      <td>4.400000</td>\n",
       "      <td>68.000000</td>\n",
       "      <td>813.000000</td>\n",
       "    </tr>\n",
       "    <tr>\n",
       "      <th>50%</th>\n",
       "      <td>10.700000</td>\n",
       "      <td>43.540000</td>\n",
       "      <td>7.300000</td>\n",
       "      <td>5.000000</td>\n",
       "      <td>101.000000</td>\n",
       "      <td>1682.000000</td>\n",
       "    </tr>\n",
       "    <tr>\n",
       "      <th>75%</th>\n",
       "      <td>44.800000</td>\n",
       "      <td>51.320000</td>\n",
       "      <td>9.900000</td>\n",
       "      <td>5.800000</td>\n",
       "      <td>151.000000</td>\n",
       "      <td>2879.000000</td>\n",
       "    </tr>\n",
       "    <tr>\n",
       "      <th>max</th>\n",
       "      <td>82.500000</td>\n",
       "      <td>64.430000</td>\n",
       "      <td>14.400000</td>\n",
       "      <td>8.400000</td>\n",
       "      <td>372.000000</td>\n",
       "      <td>9887.000000</td>\n",
       "    </tr>\n",
       "  </tbody>\n",
       "</table>\n",
       "</div>"
      ],
      "text/plain": [
       "       Population  GDPperHead  UnemploymentRate  EducationSpending  \\\n",
       "count   21.000000   21.000000         21.000000          21.000000   \n",
       "mean    26.723810   36.973810          8.100000           5.180952   \n",
       "std     26.128929   18.654496          3.122979           1.269889   \n",
       "min      4.400000    6.550000          3.600000           3.300000   \n",
       "25%      8.400000   20.670000          6.300000           4.400000   \n",
       "50%     10.700000   43.540000          7.300000           5.000000   \n",
       "75%     44.800000   51.320000          9.900000           5.800000   \n",
       "max     82.500000   64.430000         14.400000           8.400000   \n",
       "\n",
       "       SalesPerCapita  ComputerSales  \n",
       "count       21.000000      21.000000  \n",
       "mean       115.333333    2492.809524  \n",
       "std         78.970459    2499.807965  \n",
       "min         20.000000     154.000000  \n",
       "25%         68.000000     813.000000  \n",
       "50%        101.000000    1682.000000  \n",
       "75%        151.000000    2879.000000  \n",
       "max        372.000000    9887.000000  "
      ]
     },
     "execution_count": 6,
     "metadata": {},
     "output_type": "execute_result"
    }
   ],
   "source": [
    "df.describe()"
   ]
  },
  {
   "cell_type": "code",
   "execution_count": 7,
   "metadata": {},
   "outputs": [
    {
     "data": {
      "text/html": [
       "<div>\n",
       "<style scoped>\n",
       "    .dataframe tbody tr th:only-of-type {\n",
       "        vertical-align: middle;\n",
       "    }\n",
       "\n",
       "    .dataframe tbody tr th {\n",
       "        vertical-align: top;\n",
       "    }\n",
       "\n",
       "    .dataframe thead th {\n",
       "        text-align: right;\n",
       "    }\n",
       "</style>\n",
       "<table border=\"1\" class=\"dataframe\">\n",
       "  <thead>\n",
       "    <tr style=\"text-align: right;\">\n",
       "      <th></th>\n",
       "      <th>Country</th>\n",
       "      <th>Population</th>\n",
       "      <th>GDPperHead</th>\n",
       "      <th>UnemploymentRate</th>\n",
       "      <th>EducationSpending</th>\n",
       "      <th>SalesPerCapita</th>\n",
       "      <th>ComputerSales</th>\n",
       "    </tr>\n",
       "  </thead>\n",
       "  <tbody>\n",
       "    <tr>\n",
       "      <th>5</th>\n",
       "      <td>Finland</td>\n",
       "      <td>5.3</td>\n",
       "      <td>51.32</td>\n",
       "      <td>9.9</td>\n",
       "      <td>6.3</td>\n",
       "      <td>372</td>\n",
       "      <td>1971</td>\n",
       "    </tr>\n",
       "  </tbody>\n",
       "</table>\n",
       "</div>"
      ],
      "text/plain": [
       "   Country  Population  GDPperHead  UnemploymentRate  EducationSpending  \\\n",
       "5  Finland         5.3       51.32               9.9                6.3   \n",
       "\n",
       "   SalesPerCapita  ComputerSales  \n",
       "5             372           1971  "
      ]
     },
     "execution_count": 7,
     "metadata": {},
     "output_type": "execute_result"
    }
   ],
   "source": [
    "df[df.SalesPerCapita == df.SalesPerCapita.max()]"
   ]
  },
  {
   "cell_type": "code",
   "execution_count": 8,
   "metadata": {},
   "outputs": [
    {
     "data": {
      "text/html": [
       "<div>\n",
       "<style scoped>\n",
       "    .dataframe tbody tr th:only-of-type {\n",
       "        vertical-align: middle;\n",
       "    }\n",
       "\n",
       "    .dataframe tbody tr th {\n",
       "        vertical-align: top;\n",
       "    }\n",
       "\n",
       "    .dataframe thead th {\n",
       "        text-align: right;\n",
       "    }\n",
       "</style>\n",
       "<table border=\"1\" class=\"dataframe\">\n",
       "  <thead>\n",
       "    <tr style=\"text-align: right;\">\n",
       "      <th></th>\n",
       "      <th>Country</th>\n",
       "      <th>Population</th>\n",
       "      <th>GDPperHead</th>\n",
       "      <th>UnemploymentRate</th>\n",
       "      <th>EducationSpending</th>\n",
       "      <th>SalesPerCapita</th>\n",
       "      <th>ComputerSales</th>\n",
       "    </tr>\n",
       "  </thead>\n",
       "  <tbody>\n",
       "    <tr>\n",
       "      <th>2</th>\n",
       "      <td>Bulgaria</td>\n",
       "      <td>7.6</td>\n",
       "      <td>6.55</td>\n",
       "      <td>13.5</td>\n",
       "      <td>3.5</td>\n",
       "      <td>20</td>\n",
       "      <td>154</td>\n",
       "    </tr>\n",
       "  </tbody>\n",
       "</table>\n",
       "</div>"
      ],
      "text/plain": [
       "    Country  Population  GDPperHead  UnemploymentRate  EducationSpending  \\\n",
       "2  Bulgaria         7.6        6.55              13.5                3.5   \n",
       "\n",
       "   SalesPerCapita  ComputerSales  \n",
       "2              20            154  "
      ]
     },
     "execution_count": 8,
     "metadata": {},
     "output_type": "execute_result"
    }
   ],
   "source": [
    "df[df.SalesPerCapita == df.SalesPerCapita.min()]"
   ]
  },
  {
   "cell_type": "code",
   "execution_count": 9,
   "metadata": {},
   "outputs": [
    {
     "data": {
      "text/html": [
       "<div>\n",
       "<style scoped>\n",
       "    .dataframe tbody tr th:only-of-type {\n",
       "        vertical-align: middle;\n",
       "    }\n",
       "\n",
       "    .dataframe tbody tr th {\n",
       "        vertical-align: top;\n",
       "    }\n",
       "\n",
       "    .dataframe thead th {\n",
       "        text-align: right;\n",
       "    }\n",
       "</style>\n",
       "<table border=\"1\" class=\"dataframe\">\n",
       "  <thead>\n",
       "    <tr style=\"text-align: right;\">\n",
       "      <th></th>\n",
       "      <th>Country</th>\n",
       "      <th>Population</th>\n",
       "      <th>GDPperHead</th>\n",
       "      <th>UnemploymentRate</th>\n",
       "      <th>EducationSpending</th>\n",
       "      <th>SalesPerCapita</th>\n",
       "      <th>ComputerSales</th>\n",
       "    </tr>\n",
       "  </thead>\n",
       "  <tbody>\n",
       "    <tr>\n",
       "      <th>20</th>\n",
       "      <td>UK</td>\n",
       "      <td>61.0</td>\n",
       "      <td>43.54</td>\n",
       "      <td>5.9</td>\n",
       "      <td>4.8</td>\n",
       "      <td>162</td>\n",
       "      <td>9887</td>\n",
       "    </tr>\n",
       "  </tbody>\n",
       "</table>\n",
       "</div>"
      ],
      "text/plain": [
       "   Country  Population  GDPperHead  UnemploymentRate  EducationSpending  \\\n",
       "20      UK        61.0       43.54               5.9                4.8   \n",
       "\n",
       "    SalesPerCapita  ComputerSales  \n",
       "20             162           9887  "
      ]
     },
     "execution_count": 9,
     "metadata": {},
     "output_type": "execute_result"
    }
   ],
   "source": [
    "df[df.ComputerSales == df.ComputerSales.max()]"
   ]
  },
  {
   "cell_type": "code",
   "execution_count": 10,
   "metadata": {},
   "outputs": [
    {
     "data": {
      "text/html": [
       "<div>\n",
       "<style scoped>\n",
       "    .dataframe tbody tr th:only-of-type {\n",
       "        vertical-align: middle;\n",
       "    }\n",
       "\n",
       "    .dataframe tbody tr th {\n",
       "        vertical-align: top;\n",
       "    }\n",
       "\n",
       "    .dataframe thead th {\n",
       "        text-align: right;\n",
       "    }\n",
       "</style>\n",
       "<table border=\"1\" class=\"dataframe\">\n",
       "  <thead>\n",
       "    <tr style=\"text-align: right;\">\n",
       "      <th></th>\n",
       "      <th>Country</th>\n",
       "      <th>Population</th>\n",
       "      <th>GDPperHead</th>\n",
       "      <th>UnemploymentRate</th>\n",
       "      <th>EducationSpending</th>\n",
       "      <th>SalesPerCapita</th>\n",
       "      <th>ComputerSales</th>\n",
       "    </tr>\n",
       "  </thead>\n",
       "  <tbody>\n",
       "    <tr>\n",
       "      <th>2</th>\n",
       "      <td>Bulgaria</td>\n",
       "      <td>7.6</td>\n",
       "      <td>6.55</td>\n",
       "      <td>13.5</td>\n",
       "      <td>3.5</td>\n",
       "      <td>20</td>\n",
       "      <td>154</td>\n",
       "    </tr>\n",
       "  </tbody>\n",
       "</table>\n",
       "</div>"
      ],
      "text/plain": [
       "    Country  Population  GDPperHead  UnemploymentRate  EducationSpending  \\\n",
       "2  Bulgaria         7.6        6.55              13.5                3.5   \n",
       "\n",
       "   SalesPerCapita  ComputerSales  \n",
       "2              20            154  "
      ]
     },
     "execution_count": 10,
     "metadata": {},
     "output_type": "execute_result"
    }
   ],
   "source": [
    "df[df.ComputerSales == df.ComputerSales.min()]"
   ]
  },
  {
   "cell_type": "markdown",
   "metadata": {},
   "source": [
    "Sales per capita and computer sales are lowest in Bulgaria. However Finland has the highest Sales per capita and UK has the highest computer sales. In first glance, having the lowest sales per capita and computer sales can related to low education spending in Bulgaria. It will be analyzed in detailed in further part of this study. "
   ]
  },
  {
   "cell_type": "markdown",
   "metadata": {},
   "source": [
    "## 2.1. Data Visualization "
   ]
  },
  {
   "cell_type": "markdown",
   "metadata": {},
   "source": [
    "According to the graph below, sales per capita is higher in Scandinavian countries than others. In Eastern Europe it is much lower. Apart from that, computer sales are the highest in UK, followed by Germany and France."
   ]
  },
  {
   "cell_type": "code",
   "execution_count": 107,
   "metadata": {},
   "outputs": [
    {
     "data": {
      "image/png": "[encoded data removed]",
      "text/plain": [
       "<Figure size 720x360 with 1 Axes>"
      ]
     },
     "metadata": {
      "needs_background": "light"
     },
     "output_type": "display_data"
    }
   ],
   "source": [
    "sns.barplot(x = \"SalesPerCapita\", y = \"Country\", data = df.sort_values(by = \"SalesPerCapita\", ascending = False));"
   ]
  },
  {
   "cell_type": "code",
   "execution_count": 108,
   "metadata": {},
   "outputs": [
    {
     "data": {
      "image/png": "[encoded data removed]",
      "text/plain": [
       "<Figure size 720x360 with 1 Axes>"
      ]
     },
     "metadata": {
      "needs_background": "light"
     },
     "output_type": "display_data"
    }
   ],
   "source": [
    "sns.barplot(x = \"ComputerSales\", y = \"Country\", data = df.sort_values(by = \"ComputerSales\", ascending = False));"
   ]
  },
  {
   "cell_type": "code",
   "execution_count": 11,
   "metadata": {},
   "outputs": [
    {
     "data": {
      "text/plain": [
       "['Country',\n",
       " 'Population',\n",
       " 'GDPperHead',\n",
       " 'UnemploymentRate',\n",
       " 'EducationSpending',\n",
       " 'SalesPerCapita',\n",
       " 'ComputerSales']"
      ]
     },
     "execution_count": 11,
     "metadata": {},
     "output_type": "execute_result"
    }
   ],
   "source": [
    "list(df.dtypes.index)"
   ]
  },
  {
   "cell_type": "code",
   "execution_count": 12,
   "metadata": {},
   "outputs": [
    {
     "data": {
      "text/plain": [
       "['Population', 'GDPperHead', 'UnemploymentRate', 'EducationSpending']"
      ]
     },
     "execution_count": 12,
     "metadata": {},
     "output_type": "execute_result"
    }
   ],
   "source": [
    "df_features = list(df.dtypes.index)[1:5]\n",
    "df_features"
   ]
  },
  {
   "cell_type": "code",
   "execution_count": 13,
   "metadata": {},
   "outputs": [
    {
     "data": {
      "text/plain": [
       "['SalesPerCapita', 'ComputerSales']"
      ]
     },
     "execution_count": 13,
     "metadata": {},
     "output_type": "execute_result"
    }
   ],
   "source": [
    "df_dep_var = list(df.dtypes.index)[-2:]\n",
    "df_dep_var"
   ]
  },
  {
   "cell_type": "markdown",
   "metadata": {},
   "source": [
    "Population, GDPperHead, UnemploymentRate and EducationSpending are dependent variables, whereas SalesPerCapita and ComputerSales are independent or target variables. "
   ]
  },
  {
   "cell_type": "code",
   "execution_count": 14,
   "metadata": {
    "scrolled": true
   },
   "outputs": [
    {
     "data": {
      "image/png": "[encoded data removed]",
      "text/plain": [
       "<Figure size 1800x576 with 4 Axes>"
      ]
     },
     "metadata": {
      "needs_background": "light"
     },
     "output_type": "display_data"
    }
   ],
   "source": [
    "k = 0\n",
    "fig,ax = plt.subplots(ncols = len(df_features), figsize = (25,8))\n",
    "for i in df_features:\n",
    "    sns.scatterplot(x = df_features[k] , y = \"SalesPerCapita\", data = df,  ax = ax[k])\n",
    "    k = k+1"
   ]
  },
  {
   "cell_type": "markdown",
   "metadata": {},
   "source": [
    "It can be said that, for SalesperCapita there is a linearity in features, which are GDPperHead and EducationSpending. However these two dependent variables can be correlated with each other, which will be examined below. "
   ]
  },
  {
   "cell_type": "code",
   "execution_count": 15,
   "metadata": {
    "scrolled": true
   },
   "outputs": [
    {
     "data": {
      "image/png": "[encoded data removed]",
      "text/plain": [
       "<Figure size 1800x576 with 4 Axes>"
      ]
     },
     "metadata": {
      "needs_background": "light"
     },
     "output_type": "display_data"
    }
   ],
   "source": [
    "k = 0\n",
    "fig,ax = plt.subplots(ncols = len(df_features), figsize = (25,8))\n",
    "for i in df_features:\n",
    "    sns.scatterplot(x = df_features[k] , y = \"ComputerSales\", data = df,  ax = ax[k])\n",
    "    k = k+1"
   ]
  },
  {
   "cell_type": "markdown",
   "metadata": {},
   "source": [
    "For ComputerSales target variable, there might be  a linearity with Population. "
   ]
  },
  {
   "cell_type": "code",
   "execution_count": 16,
   "metadata": {},
   "outputs": [
    {
     "data": {
      "image/png": "[encoded data removed]",
      "text/plain": [
       "<Figure size 720x720 with 2 Axes>"
      ]
     },
     "metadata": {
      "needs_background": "light"
     },
     "output_type": "display_data"
    }
   ],
   "source": [
    "plt.figure(figsize = (10,10))\n",
    "plt.subplot(2,2,1)\n",
    "sns.boxplot(x = \"SalesPerCapita\", data = df)\n",
    "plt.subplot(2,2,2)\n",
    "sns.boxplot(x = \"ComputerSales\", data = df);"
   ]
  },
  {
   "cell_type": "markdown",
   "metadata": {},
   "source": [
    "SalesPerCapita has one outlier, whereas ComputerSales have two outliers. "
   ]
  },
  {
   "cell_type": "code",
   "execution_count": 73,
   "metadata": {},
   "outputs": [
    {
     "data": {
      "image/png": "[encoded data removed]",
      "text/plain": [
       "<Figure size 720x720 with 2 Axes>"
      ]
     },
     "metadata": {
      "needs_background": "light"
     },
     "output_type": "display_data"
    }
   ],
   "source": [
    "plt.figure(figsize = (10,10))\n",
    "plt.subplot(2,2,1)\n",
    "plt.hist(df.SalesPerCapita)\n",
    "plt.title(\"SalesPerCapita\")\n",
    "plt.subplot(2,2,2)\n",
    "plt.hist(df.ComputerSales)\n",
    "plt.title(\"ComputerSales\");"
   ]
  },
  {
   "cell_type": "markdown",
   "metadata": {},
   "source": [
    "Both SalesPerCapita and ComputerSales histograms are skewed to the right. "
   ]
  },
  {
   "cell_type": "markdown",
   "metadata": {},
   "source": [
    "## 2.2. Correlation "
   ]
  },
  {
   "cell_type": "code",
   "execution_count": 18,
   "metadata": {},
   "outputs": [
    {
     "data": {
      "image/png": "[encoded data removed]",
      "text/plain": [
       "<Figure size 720x360 with 2 Axes>"
      ]
     },
     "metadata": {
      "needs_background": "light"
     },
     "output_type": "display_data"
    }
   ],
   "source": [
    "rcParams['figure.figsize'] = 10,5\n",
    "sns.heatmap(df.corr(), vmin = -1, vmax = 1, annot = True, cmap = \"Reds\" );"
   ]
  },
  {
   "cell_type": "markdown",
   "metadata": {},
   "source": [
    "**Features below are highly correlated to the related dependent variables:**\n",
    "\n",
    "SalesPerCapita - GDPPerHead\n",
    "\n",
    "SalesPerCapita - Education Spending\n",
    "\n",
    "ComputerSales - Population\n"
   ]
  },
  {
   "cell_type": "markdown",
   "metadata": {},
   "source": [
    "**There are also independent variables which are significantly correlated to each other:**\n",
    "\n",
    "GDPPerHead - UnemploymentRate\n",
    "\n",
    "GDPPerHead - EducationSpending"
   ]
  },
  {
   "cell_type": "markdown",
   "metadata": {},
   "source": [
    "Since EducationSpending and GDPPerHead are highly correlated with each other, one of them will be out of model, where SalesPerCapita is the target variable. Population will be the single feature in the model, where ComputerSales is the target variable, because they are strongly correlated as compared to other dependent variables. "
   ]
  },
  {
   "cell_type": "markdown",
   "metadata": {},
   "source": [
    "## 2.3. Data Preparation "
   ]
  },
  {
   "cell_type": "code",
   "execution_count": 19,
   "metadata": {},
   "outputs": [
    {
     "data": {
      "text/html": [
       "<div>\n",
       "<style scoped>\n",
       "    .dataframe tbody tr th:only-of-type {\n",
       "        vertical-align: middle;\n",
       "    }\n",
       "\n",
       "    .dataframe tbody tr th {\n",
       "        vertical-align: top;\n",
       "    }\n",
       "\n",
       "    .dataframe thead th {\n",
       "        text-align: right;\n",
       "    }\n",
       "</style>\n",
       "<table border=\"1\" class=\"dataframe\">\n",
       "  <thead>\n",
       "    <tr style=\"text-align: right;\">\n",
       "      <th></th>\n",
       "      <th>Country</th>\n",
       "      <th>Population</th>\n",
       "      <th>GDPperHead</th>\n",
       "      <th>UnemploymentRate</th>\n",
       "      <th>EducationSpending</th>\n",
       "      <th>SalesPerCapita</th>\n",
       "      <th>ComputerSales</th>\n",
       "    </tr>\n",
       "  </thead>\n",
       "  <tbody>\n",
       "    <tr>\n",
       "      <th>0</th>\n",
       "      <td>Austria</td>\n",
       "      <td>8.4</td>\n",
       "      <td>49.60</td>\n",
       "      <td>4.2</td>\n",
       "      <td>5.8</td>\n",
       "      <td>112</td>\n",
       "      <td>941</td>\n",
       "    </tr>\n",
       "    <tr>\n",
       "      <th>1</th>\n",
       "      <td>Belgium</td>\n",
       "      <td>10.5</td>\n",
       "      <td>47.09</td>\n",
       "      <td>8.1</td>\n",
       "      <td>5.9</td>\n",
       "      <td>160</td>\n",
       "      <td>1682</td>\n",
       "    </tr>\n",
       "    <tr>\n",
       "      <th>2</th>\n",
       "      <td>Bulgaria</td>\n",
       "      <td>7.6</td>\n",
       "      <td>6.55</td>\n",
       "      <td>13.5</td>\n",
       "      <td>3.5</td>\n",
       "      <td>20</td>\n",
       "      <td>154</td>\n",
       "    </tr>\n",
       "    <tr>\n",
       "      <th>3</th>\n",
       "      <td>Czech Rep.</td>\n",
       "      <td>10.2</td>\n",
       "      <td>20.67</td>\n",
       "      <td>6.6</td>\n",
       "      <td>4.4</td>\n",
       "      <td>101</td>\n",
       "      <td>1029</td>\n",
       "    </tr>\n",
       "    <tr>\n",
       "      <th>4</th>\n",
       "      <td>Denmark</td>\n",
       "      <td>5.5</td>\n",
       "      <td>62.12</td>\n",
       "      <td>5.2</td>\n",
       "      <td>8.4</td>\n",
       "      <td>170</td>\n",
       "      <td>935</td>\n",
       "    </tr>\n",
       "  </tbody>\n",
       "</table>\n",
       "</div>"
      ],
      "text/plain": [
       "      Country  Population  GDPperHead  UnemploymentRate  EducationSpending  \\\n",
       "0     Austria         8.4       49.60               4.2                5.8   \n",
       "1     Belgium        10.5       47.09               8.1                5.9   \n",
       "2    Bulgaria         7.6        6.55              13.5                3.5   \n",
       "3  Czech Rep.        10.2       20.67               6.6                4.4   \n",
       "4     Denmark         5.5       62.12               5.2                8.4   \n",
       "\n",
       "   SalesPerCapita  ComputerSales  \n",
       "0             112            941  \n",
       "1             160           1682  \n",
       "2              20            154  \n",
       "3             101           1029  \n",
       "4             170            935  "
      ]
     },
     "execution_count": 19,
     "metadata": {},
     "output_type": "execute_result"
    }
   ],
   "source": [
    "df.head()"
   ]
  },
  {
   "cell_type": "code",
   "execution_count": 20,
   "metadata": {},
   "outputs": [],
   "source": [
    "X_Sales = df.GDPperHead\n",
    "X_Comp = df.Population"
   ]
  },
  {
   "cell_type": "code",
   "execution_count": 21,
   "metadata": {},
   "outputs": [],
   "source": [
    "Y_Sales = df.SalesPerCapita\n",
    "Y_Comp = df.ComputerSales"
   ]
  },
  {
   "cell_type": "code",
   "execution_count": 46,
   "metadata": {
    "scrolled": true
   },
   "outputs": [
    {
     "data": {
      "text/html": [
       "<div>\n",
       "<style scoped>\n",
       "    .dataframe tbody tr th:only-of-type {\n",
       "        vertical-align: middle;\n",
       "    }\n",
       "\n",
       "    .dataframe tbody tr th {\n",
       "        vertical-align: top;\n",
       "    }\n",
       "\n",
       "    .dataframe thead th {\n",
       "        text-align: right;\n",
       "    }\n",
       "</style>\n",
       "<table border=\"1\" class=\"dataframe\">\n",
       "  <thead>\n",
       "    <tr style=\"text-align: right;\">\n",
       "      <th></th>\n",
       "      <th>Population</th>\n",
       "      <th>GDPperHead</th>\n",
       "      <th>UnemploymentRate</th>\n",
       "    </tr>\n",
       "  </thead>\n",
       "  <tbody>\n",
       "    <tr>\n",
       "      <th>0</th>\n",
       "      <td>8.4</td>\n",
       "      <td>49.60</td>\n",
       "      <td>4.2</td>\n",
       "    </tr>\n",
       "    <tr>\n",
       "      <th>1</th>\n",
       "      <td>10.5</td>\n",
       "      <td>47.09</td>\n",
       "      <td>8.1</td>\n",
       "    </tr>\n",
       "    <tr>\n",
       "      <th>2</th>\n",
       "      <td>7.6</td>\n",
       "      <td>6.55</td>\n",
       "      <td>13.5</td>\n",
       "    </tr>\n",
       "    <tr>\n",
       "      <th>3</th>\n",
       "      <td>10.2</td>\n",
       "      <td>20.67</td>\n",
       "      <td>6.6</td>\n",
       "    </tr>\n",
       "    <tr>\n",
       "      <th>4</th>\n",
       "      <td>5.5</td>\n",
       "      <td>62.12</td>\n",
       "      <td>5.2</td>\n",
       "    </tr>\n",
       "    <tr>\n",
       "      <th>5</th>\n",
       "      <td>5.3</td>\n",
       "      <td>51.32</td>\n",
       "      <td>9.9</td>\n",
       "    </tr>\n",
       "    <tr>\n",
       "      <th>6</th>\n",
       "      <td>61.9</td>\n",
       "      <td>44.51</td>\n",
       "      <td>10.0</td>\n",
       "    </tr>\n",
       "    <tr>\n",
       "      <th>7</th>\n",
       "      <td>82.5</td>\n",
       "      <td>44.45</td>\n",
       "      <td>9.1</td>\n",
       "    </tr>\n",
       "    <tr>\n",
       "      <th>8</th>\n",
       "      <td>11.2</td>\n",
       "      <td>31.67</td>\n",
       "      <td>9.9</td>\n",
       "    </tr>\n",
       "    <tr>\n",
       "      <th>9</th>\n",
       "      <td>10.0</td>\n",
       "      <td>15.41</td>\n",
       "      <td>7.3</td>\n",
       "    </tr>\n",
       "    <tr>\n",
       "      <th>10</th>\n",
       "      <td>4.4</td>\n",
       "      <td>60.46</td>\n",
       "      <td>6.3</td>\n",
       "    </tr>\n",
       "    <tr>\n",
       "      <th>11</th>\n",
       "      <td>58.9</td>\n",
       "      <td>38.49</td>\n",
       "      <td>9.3</td>\n",
       "    </tr>\n",
       "    <tr>\n",
       "      <th>12</th>\n",
       "      <td>16.5</td>\n",
       "      <td>52.96</td>\n",
       "      <td>4.4</td>\n",
       "    </tr>\n",
       "    <tr>\n",
       "      <th>13</th>\n",
       "      <td>38.0</td>\n",
       "      <td>13.85</td>\n",
       "      <td>14.4</td>\n",
       "    </tr>\n",
       "    <tr>\n",
       "      <th>14</th>\n",
       "      <td>10.7</td>\n",
       "      <td>22.92</td>\n",
       "      <td>6.3</td>\n",
       "    </tr>\n",
       "    <tr>\n",
       "      <th>15</th>\n",
       "      <td>21.3</td>\n",
       "      <td>9.30</td>\n",
       "      <td>7.0</td>\n",
       "    </tr>\n",
       "    <tr>\n",
       "      <th>16</th>\n",
       "      <td>44.8</td>\n",
       "      <td>35.22</td>\n",
       "      <td>14.2</td>\n",
       "    </tr>\n",
       "    <tr>\n",
       "      <th>17</th>\n",
       "      <td>7.5</td>\n",
       "      <td>64.43</td>\n",
       "      <td>3.6</td>\n",
       "    </tr>\n",
       "    <tr>\n",
       "      <th>18</th>\n",
       "      <td>9.2</td>\n",
       "      <td>51.95</td>\n",
       "      <td>6.3</td>\n",
       "    </tr>\n",
       "    <tr>\n",
       "      <th>19</th>\n",
       "      <td>75.8</td>\n",
       "      <td>9.94</td>\n",
       "      <td>8.6</td>\n",
       "    </tr>\n",
       "    <tr>\n",
       "      <th>20</th>\n",
       "      <td>61.0</td>\n",
       "      <td>43.54</td>\n",
       "      <td>5.9</td>\n",
       "    </tr>\n",
       "  </tbody>\n",
       "</table>\n",
       "</div>"
      ],
      "text/plain": [
       "    Population  GDPperHead  UnemploymentRate\n",
       "0          8.4       49.60               4.2\n",
       "1         10.5       47.09               8.1\n",
       "2          7.6        6.55              13.5\n",
       "3         10.2       20.67               6.6\n",
       "4          5.5       62.12               5.2\n",
       "5          5.3       51.32               9.9\n",
       "6         61.9       44.51              10.0\n",
       "7         82.5       44.45               9.1\n",
       "8         11.2       31.67               9.9\n",
       "9         10.0       15.41               7.3\n",
       "10         4.4       60.46               6.3\n",
       "11        58.9       38.49               9.3\n",
       "12        16.5       52.96               4.4\n",
       "13        38.0       13.85              14.4\n",
       "14        10.7       22.92               6.3\n",
       "15        21.3        9.30               7.0\n",
       "16        44.8       35.22              14.2\n",
       "17         7.5       64.43               3.6\n",
       "18         9.2       51.95               6.3\n",
       "19        75.8        9.94               8.6\n",
       "20        61.0       43.54               5.9"
      ]
     },
     "execution_count": 46,
     "metadata": {},
     "output_type": "execute_result"
    }
   ],
   "source": [
    "X_SalesMulti = df.drop(columns = [\"Country\",\"EducationSpending\",\"SalesPerCapita\",\"ComputerSales\"])\n",
    "X_SalesMulti"
   ]
  },
  {
   "cell_type": "code",
   "execution_count": 22,
   "metadata": {},
   "outputs": [],
   "source": [
    "from sklearn.model_selection import train_test_split"
   ]
  },
  {
   "cell_type": "code",
   "execution_count": 23,
   "metadata": {},
   "outputs": [],
   "source": [
    "X_Sales_train, X_Sales_test, Y_Sales_train, Y_Sales_test = train_test_split(X_Sales , Y_Sales, test_size = 0.20)"
   ]
  },
  {
   "cell_type": "code",
   "execution_count": 24,
   "metadata": {},
   "outputs": [],
   "source": [
    "X_Comp_train, X_Comp_test, Y_Comp_train, Y_Comp_test = train_test_split(X_Comp , Y_Comp, test_size = 0.20)"
   ]
  },
  {
   "cell_type": "code",
   "execution_count": 47,
   "metadata": {},
   "outputs": [],
   "source": [
    "X_SalesMulti_train, X_SalesMulti_test, Y_Sales_train, Y_Sales_test = train_test_split(X_SalesMulti, Y_Sales, test_size = 0.20)"
   ]
  },
  {
   "cell_type": "markdown",
   "metadata": {},
   "source": [
    "There will be three different models. For predicting SalesperCapita there will be two models, one of them contain the single feature GDPperHead and the other one has multiple dependent variables, which are Population, GDPperHead and UnemploymentRate. On the other hand, there is a single feature which is Population in prediction of ComputerSales.  "
   ]
  },
  {
   "cell_type": "markdown",
   "metadata": {},
   "source": [
    "# 3. Modelling - Linear Regression "
   ]
  },
  {
   "cell_type": "markdown",
   "metadata": {},
   "source": [
    "Statsmodels is used in linear regression analysis. There are 3 different models. "
   ]
  },
  {
   "cell_type": "code",
   "execution_count": 39,
   "metadata": {},
   "outputs": [],
   "source": [
    "import statsmodels.api as sm\n",
    "from sklearn.metrics import mean_squared_error\n",
    "from sklearn.metrics import r2_score"
   ]
  },
  {
   "cell_type": "code",
   "execution_count": 29,
   "metadata": {},
   "outputs": [],
   "source": [
    "lm = sm.OLS(Y_Sales_train, X_Sales_train)\n",
    "model_Sales = lm.fit()"
   ]
  },
  {
   "cell_type": "code",
   "execution_count": 30,
   "metadata": {},
   "outputs": [
    {
     "name": "stderr",
     "output_type": "stream",
     "text": [
      "C:\\Users\\Kaan\\anaconda3\\lib\\site-packages\\scipy\\stats\\stats.py:1535: UserWarning: kurtosistest only valid for n>=20 ... continuing anyway, n=16\n",
      "  \"anyway, n=%i\" % int(n))\n"
     ]
    },
    {
     "data": {
      "text/html": [
       "<table class=\"simpletable\">\n",
       "<caption>OLS Regression Results</caption>\n",
       "<tr>\n",
       "  <th>Dep. Variable:</th>     <td>SalesPerCapita</td>  <th>  R-squared (uncentered):</th>      <td>   0.925</td>\n",
       "</tr>\n",
       "<tr>\n",
       "  <th>Model:</th>                   <td>OLS</td>       <th>  Adj. R-squared (uncentered):</th> <td>   0.920</td>\n",
       "</tr>\n",
       "<tr>\n",
       "  <th>Method:</th>             <td>Least Squares</td>  <th>  F-statistic:       </th>          <td>   185.0</td>\n",
       "</tr>\n",
       "<tr>\n",
       "  <th>Date:</th>             <td>Sat, 20 Mar 2021</td> <th>  Prob (F-statistic):</th>          <td>7.66e-10</td>\n",
       "</tr>\n",
       "<tr>\n",
       "  <th>Time:</th>                 <td>20:22:07</td>     <th>  Log-Likelihood:    </th>          <td> -77.740</td>\n",
       "</tr>\n",
       "<tr>\n",
       "  <th>No. Observations:</th>      <td>    16</td>      <th>  AIC:               </th>          <td>   157.5</td>\n",
       "</tr>\n",
       "<tr>\n",
       "  <th>Df Residuals:</th>          <td>    15</td>      <th>  BIC:               </th>          <td>   158.3</td>\n",
       "</tr>\n",
       "<tr>\n",
       "  <th>Df Model:</th>              <td>     1</td>      <th>                     </th>              <td> </td>   \n",
       "</tr>\n",
       "<tr>\n",
       "  <th>Covariance Type:</th>      <td>nonrobust</td>    <th>                     </th>              <td> </td>   \n",
       "</tr>\n",
       "</table>\n",
       "<table class=\"simpletable\">\n",
       "<tr>\n",
       "       <td></td>         <th>coef</th>     <th>std err</th>      <th>t</th>      <th>P>|t|</th>  <th>[0.025</th>    <th>0.975]</th>  \n",
       "</tr>\n",
       "<tr>\n",
       "  <th>GDPperHead</th> <td>    2.6894</td> <td>    0.198</td> <td>   13.602</td> <td> 0.000</td> <td>    2.268</td> <td>    3.111</td>\n",
       "</tr>\n",
       "</table>\n",
       "<table class=\"simpletable\">\n",
       "<tr>\n",
       "  <th>Omnibus:</th>       <td> 9.157</td> <th>  Durbin-Watson:     </th> <td>   1.923</td>\n",
       "</tr>\n",
       "<tr>\n",
       "  <th>Prob(Omnibus):</th> <td> 0.010</td> <th>  Jarque-Bera (JB):  </th> <td>   5.689</td>\n",
       "</tr>\n",
       "<tr>\n",
       "  <th>Skew:</th>          <td> 1.225</td> <th>  Prob(JB):          </th> <td>  0.0582</td>\n",
       "</tr>\n",
       "<tr>\n",
       "  <th>Kurtosis:</th>      <td> 4.590</td> <th>  Cond. No.          </th> <td>    1.00</td>\n",
       "</tr>\n",
       "</table><br/><br/>Warnings:<br/>[1] Standard Errors assume that the covariance matrix of the errors is correctly specified."
      ],
      "text/plain": [
       "<class 'statsmodels.iolib.summary.Summary'>\n",
       "\"\"\"\n",
       "                                 OLS Regression Results                                \n",
       "=======================================================================================\n",
       "Dep. Variable:         SalesPerCapita   R-squared (uncentered):                   0.925\n",
       "Model:                            OLS   Adj. R-squared (uncentered):              0.920\n",
       "Method:                 Least Squares   F-statistic:                              185.0\n",
       "Date:                Sat, 20 Mar 2021   Prob (F-statistic):                    7.66e-10\n",
       "Time:                        20:22:07   Log-Likelihood:                         -77.740\n",
       "No. Observations:                  16   AIC:                                      157.5\n",
       "Df Residuals:                      15   BIC:                                      158.3\n",
       "Df Model:                           1                                                  \n",
       "Covariance Type:            nonrobust                                                  \n",
       "==============================================================================\n",
       "                 coef    std err          t      P>|t|      [0.025      0.975]\n",
       "------------------------------------------------------------------------------\n",
       "GDPperHead     2.6894      0.198     13.602      0.000       2.268       3.111\n",
       "==============================================================================\n",
       "Omnibus:                        9.157   Durbin-Watson:                   1.923\n",
       "Prob(Omnibus):                  0.010   Jarque-Bera (JB):                5.689\n",
       "Skew:                           1.225   Prob(JB):                       0.0582\n",
       "Kurtosis:                       4.590   Cond. No.                         1.00\n",
       "==============================================================================\n",
       "\n",
       "Warnings:\n",
       "[1] Standard Errors assume that the covariance matrix of the errors is correctly specified.\n",
       "\"\"\""
      ]
     },
     "execution_count": 30,
     "metadata": {},
     "output_type": "execute_result"
    }
   ],
   "source": [
    "model_Sales.summary()"
   ]
  },
  {
   "cell_type": "code",
   "execution_count": 33,
   "metadata": {},
   "outputs": [
    {
     "data": {
      "text/plain": [
       "20    117.096538\n",
       "14     61.641081\n",
       "10    162.601210\n",
       "3      55.589927\n",
       "5     138.020081\n",
       "dtype: float64"
      ]
     },
     "execution_count": 33,
     "metadata": {},
     "output_type": "execute_result"
    }
   ],
   "source": [
    "Y_Pred_Sales = model_Sales.predict(X_Sales_test)\n",
    "Y_Pred_Sales"
   ]
  },
  {
   "cell_type": "code",
   "execution_count": 43,
   "metadata": {},
   "outputs": [
    {
     "data": {
      "text/plain": [
       "109.42035489443052"
      ]
     },
     "execution_count": 43,
     "metadata": {},
     "output_type": "execute_result"
    }
   ],
   "source": [
    "rmse_Sales = np.sqrt(mean_squared_error(Y_Sales_test, Y_Pred_Sales))\n",
    "rmse_Sales"
   ]
  },
  {
   "cell_type": "code",
   "execution_count": 49,
   "metadata": {},
   "outputs": [],
   "source": [
    "lm = sm.OLS(Y_Sales_train, X_SalesMulti_train)\n",
    "model_SalesMulti = lm.fit()"
   ]
  },
  {
   "cell_type": "code",
   "execution_count": 50,
   "metadata": {},
   "outputs": [
    {
     "name": "stderr",
     "output_type": "stream",
     "text": [
      "C:\\Users\\Kaan\\anaconda3\\lib\\site-packages\\scipy\\stats\\stats.py:1535: UserWarning: kurtosistest only valid for n>=20 ... continuing anyway, n=16\n",
      "  \"anyway, n=%i\" % int(n))\n"
     ]
    },
    {
     "data": {
      "text/html": [
       "<table class=\"simpletable\">\n",
       "<caption>OLS Regression Results</caption>\n",
       "<tr>\n",
       "  <th>Dep. Variable:</th>     <td>SalesPerCapita</td>  <th>  R-squared (uncentered):</th>      <td>   0.853</td>\n",
       "</tr>\n",
       "<tr>\n",
       "  <th>Model:</th>                   <td>OLS</td>       <th>  Adj. R-squared (uncentered):</th> <td>   0.819</td>\n",
       "</tr>\n",
       "<tr>\n",
       "  <th>Method:</th>             <td>Least Squares</td>  <th>  F-statistic:       </th>          <td>   25.15</td>\n",
       "</tr>\n",
       "<tr>\n",
       "  <th>Date:</th>             <td>Sat, 20 Mar 2021</td> <th>  Prob (F-statistic):</th>          <td>1.10e-05</td>\n",
       "</tr>\n",
       "<tr>\n",
       "  <th>Time:</th>                 <td>21:10:02</td>     <th>  Log-Likelihood:    </th>          <td> -87.916</td>\n",
       "</tr>\n",
       "<tr>\n",
       "  <th>No. Observations:</th>      <td>    16</td>      <th>  AIC:               </th>          <td>   181.8</td>\n",
       "</tr>\n",
       "<tr>\n",
       "  <th>Df Residuals:</th>          <td>    13</td>      <th>  BIC:               </th>          <td>   184.1</td>\n",
       "</tr>\n",
       "<tr>\n",
       "  <th>Df Model:</th>              <td>     3</td>      <th>                     </th>              <td> </td>   \n",
       "</tr>\n",
       "<tr>\n",
       "  <th>Covariance Type:</th>      <td>nonrobust</td>    <th>                     </th>              <td> </td>   \n",
       "</tr>\n",
       "</table>\n",
       "<table class=\"simpletable\">\n",
       "<tr>\n",
       "          <td></td>            <th>coef</th>     <th>std err</th>      <th>t</th>      <th>P>|t|</th>  <th>[0.025</th>    <th>0.975]</th>  \n",
       "</tr>\n",
       "<tr>\n",
       "  <th>Population</th>       <td>   -0.9784</td> <td>    0.746</td> <td>   -1.311</td> <td> 0.212</td> <td>   -2.590</td> <td>    0.634</td>\n",
       "</tr>\n",
       "<tr>\n",
       "  <th>GDPperHead</th>       <td>    2.6948</td> <td>    0.614</td> <td>    4.389</td> <td> 0.001</td> <td>    1.368</td> <td>    4.021</td>\n",
       "</tr>\n",
       "<tr>\n",
       "  <th>UnemploymentRate</th> <td>    6.2452</td> <td>    4.215</td> <td>    1.482</td> <td> 0.162</td> <td>   -2.861</td> <td>   15.351</td>\n",
       "</tr>\n",
       "</table>\n",
       "<table class=\"simpletable\">\n",
       "<tr>\n",
       "  <th>Omnibus:</th>       <td>14.436</td> <th>  Durbin-Watson:     </th> <td>   2.143</td>\n",
       "</tr>\n",
       "<tr>\n",
       "  <th>Prob(Omnibus):</th> <td> 0.001</td> <th>  Jarque-Bera (JB):  </th> <td>  11.414</td>\n",
       "</tr>\n",
       "<tr>\n",
       "  <th>Skew:</th>          <td> 1.642</td> <th>  Prob(JB):          </th> <td> 0.00332</td>\n",
       "</tr>\n",
       "<tr>\n",
       "  <th>Kurtosis:</th>      <td> 5.517</td> <th>  Cond. No.          </th> <td>    13.4</td>\n",
       "</tr>\n",
       "</table><br/><br/>Warnings:<br/>[1] Standard Errors assume that the covariance matrix of the errors is correctly specified."
      ],
      "text/plain": [
       "<class 'statsmodels.iolib.summary.Summary'>\n",
       "\"\"\"\n",
       "                                 OLS Regression Results                                \n",
       "=======================================================================================\n",
       "Dep. Variable:         SalesPerCapita   R-squared (uncentered):                   0.853\n",
       "Model:                            OLS   Adj. R-squared (uncentered):              0.819\n",
       "Method:                 Least Squares   F-statistic:                              25.15\n",
       "Date:                Sat, 20 Mar 2021   Prob (F-statistic):                    1.10e-05\n",
       "Time:                        21:10:02   Log-Likelihood:                         -87.916\n",
       "No. Observations:                  16   AIC:                                      181.8\n",
       "Df Residuals:                      13   BIC:                                      184.1\n",
       "Df Model:                           3                                                  \n",
       "Covariance Type:            nonrobust                                                  \n",
       "====================================================================================\n",
       "                       coef    std err          t      P>|t|      [0.025      0.975]\n",
       "------------------------------------------------------------------------------------\n",
       "Population          -0.9784      0.746     -1.311      0.212      -2.590       0.634\n",
       "GDPperHead           2.6948      0.614      4.389      0.001       1.368       4.021\n",
       "UnemploymentRate     6.2452      4.215      1.482      0.162      -2.861      15.351\n",
       "==============================================================================\n",
       "Omnibus:                       14.436   Durbin-Watson:                   2.143\n",
       "Prob(Omnibus):                  0.001   Jarque-Bera (JB):               11.414\n",
       "Skew:                           1.642   Prob(JB):                      0.00332\n",
       "Kurtosis:                       5.517   Cond. No.                         13.4\n",
       "==============================================================================\n",
       "\n",
       "Warnings:\n",
       "[1] Standard Errors assume that the covariance matrix of the errors is correctly specified.\n",
       "\"\"\""
      ]
     },
     "execution_count": 50,
     "metadata": {},
     "output_type": "execute_result"
    }
   ],
   "source": [
    "model_SalesMulti.summary()"
   ]
  },
  {
   "cell_type": "code",
   "execution_count": 51,
   "metadata": {},
   "outputs": [
    {
     "data": {
      "text/plain": [
       "2      94.525553\n",
       "7      95.896199\n",
       "0     151.671475\n",
       "9      77.332505\n",
       "14     90.640026\n",
       "dtype: float64"
      ]
     },
     "execution_count": 51,
     "metadata": {},
     "output_type": "execute_result"
    }
   ],
   "source": [
    "Y_SalesMulti_Pred = model_SalesMulti.predict(X_SalesMulti_test)\n",
    "Y_SalesMulti_Pred"
   ]
  },
  {
   "cell_type": "code",
   "execution_count": 56,
   "metadata": {},
   "outputs": [
    {
     "data": {
      "text/plain": [
       "42.0764962934693"
      ]
     },
     "execution_count": 56,
     "metadata": {},
     "output_type": "execute_result"
    }
   ],
   "source": [
    "rmse_SalesMulti = np.sqrt(mean_squared_error(Y_Sales_test, Y_SalesMulti_Pred))\n",
    "rmse_SalesMulti"
   ]
  },
  {
   "cell_type": "code",
   "execution_count": 31,
   "metadata": {},
   "outputs": [
    {
     "data": {
      "text/html": [
       "<table class=\"simpletable\">\n",
       "<caption>OLS Regression Results</caption>\n",
       "<tr>\n",
       "  <th>Dep. Variable:</th>      <td>ComputerSales</td>  <th>  R-squared (uncentered):</th>      <td>   0.851</td>\n",
       "</tr>\n",
       "<tr>\n",
       "  <th>Model:</th>                   <td>OLS</td>       <th>  Adj. R-squared (uncentered):</th> <td>   0.841</td>\n",
       "</tr>\n",
       "<tr>\n",
       "  <th>Method:</th>             <td>Least Squares</td>  <th>  F-statistic:       </th>          <td>   85.79</td>\n",
       "</tr>\n",
       "<tr>\n",
       "  <th>Date:</th>             <td>Sat, 20 Mar 2021</td> <th>  Prob (F-statistic):</th>          <td>1.36e-07</td>\n",
       "</tr>\n",
       "<tr>\n",
       "  <th>Time:</th>                 <td>20:23:08</td>     <th>  Log-Likelihood:    </th>          <td> -132.96</td>\n",
       "</tr>\n",
       "<tr>\n",
       "  <th>No. Observations:</th>      <td>    16</td>      <th>  AIC:               </th>          <td>   267.9</td>\n",
       "</tr>\n",
       "<tr>\n",
       "  <th>Df Residuals:</th>          <td>    15</td>      <th>  BIC:               </th>          <td>   268.7</td>\n",
       "</tr>\n",
       "<tr>\n",
       "  <th>Df Model:</th>              <td>     1</td>      <th>                     </th>              <td> </td>   \n",
       "</tr>\n",
       "<tr>\n",
       "  <th>Covariance Type:</th>      <td>nonrobust</td>    <th>                     </th>              <td> </td>   \n",
       "</tr>\n",
       "</table>\n",
       "<table class=\"simpletable\">\n",
       "<tr>\n",
       "       <td></td>         <th>coef</th>     <th>std err</th>      <th>t</th>      <th>P>|t|</th>  <th>[0.025</th>    <th>0.975]</th>  \n",
       "</tr>\n",
       "<tr>\n",
       "  <th>Population</th> <td>   71.0466</td> <td>    7.671</td> <td>    9.262</td> <td> 0.000</td> <td>   54.697</td> <td>   87.396</td>\n",
       "</tr>\n",
       "</table>\n",
       "<table class=\"simpletable\">\n",
       "<tr>\n",
       "  <th>Omnibus:</th>       <td>10.073</td> <th>  Durbin-Watson:     </th> <td>   2.024</td>\n",
       "</tr>\n",
       "<tr>\n",
       "  <th>Prob(Omnibus):</th> <td> 0.006</td> <th>  Jarque-Bera (JB):  </th> <td>   6.844</td>\n",
       "</tr>\n",
       "<tr>\n",
       "  <th>Skew:</th>          <td>-1.151</td> <th>  Prob(JB):          </th> <td>  0.0326</td>\n",
       "</tr>\n",
       "<tr>\n",
       "  <th>Kurtosis:</th>      <td> 5.228</td> <th>  Cond. No.          </th> <td>    1.00</td>\n",
       "</tr>\n",
       "</table><br/><br/>Warnings:<br/>[1] Standard Errors assume that the covariance matrix of the errors is correctly specified."
      ],
      "text/plain": [
       "<class 'statsmodels.iolib.summary.Summary'>\n",
       "\"\"\"\n",
       "                                 OLS Regression Results                                \n",
       "=======================================================================================\n",
       "Dep. Variable:          ComputerSales   R-squared (uncentered):                   0.851\n",
       "Model:                            OLS   Adj. R-squared (uncentered):              0.841\n",
       "Method:                 Least Squares   F-statistic:                              85.79\n",
       "Date:                Sat, 20 Mar 2021   Prob (F-statistic):                    1.36e-07\n",
       "Time:                        20:23:08   Log-Likelihood:                         -132.96\n",
       "No. Observations:                  16   AIC:                                      267.9\n",
       "Df Residuals:                      15   BIC:                                      268.7\n",
       "Df Model:                           1                                                  \n",
       "Covariance Type:            nonrobust                                                  \n",
       "==============================================================================\n",
       "                 coef    std err          t      P>|t|      [0.025      0.975]\n",
       "------------------------------------------------------------------------------\n",
       "Population    71.0466      7.671      9.262      0.000      54.697      87.396\n",
       "==============================================================================\n",
       "Omnibus:                       10.073   Durbin-Watson:                   2.024\n",
       "Prob(Omnibus):                  0.006   Jarque-Bera (JB):                6.844\n",
       "Skew:                          -1.151   Prob(JB):                       0.0326\n",
       "Kurtosis:                       5.228   Cond. No.                         1.00\n",
       "==============================================================================\n",
       "\n",
       "Warnings:\n",
       "[1] Standard Errors assume that the covariance matrix of the errors is correctly specified.\n",
       "\"\"\""
      ]
     },
     "execution_count": 31,
     "metadata": {},
     "output_type": "execute_result"
    }
   ],
   "source": [
    "lm2 = sm.OLS(Y_Comp_train, X_Comp_train)\n",
    "model_Comp = lm2.fit()\n",
    "model_Comp.summary()"
   ]
  },
  {
   "cell_type": "code",
   "execution_count": 38,
   "metadata": {},
   "outputs": [
    {
     "data": {
      "text/plain": [
       "15    1513.292390\n",
       "5      376.546933\n",
       "1      745.989206\n",
       "20    4333.842056\n",
       "7     5861.343764\n",
       "dtype: float64"
      ]
     },
     "execution_count": 38,
     "metadata": {},
     "output_type": "execute_result"
    }
   ],
   "source": [
    "Y_Pred_Comp = model_Comp.predict(X_Comp_test)\n",
    "Y_Pred_Comp"
   ]
  },
  {
   "cell_type": "code",
   "execution_count": 44,
   "metadata": {},
   "outputs": [
    {
     "data": {
      "text/plain": [
       "2678.2616034651323"
      ]
     },
     "execution_count": 44,
     "metadata": {},
     "output_type": "execute_result"
    }
   ],
   "source": [
    "rmse_Comp = np.sqrt(mean_squared_error(Y_Comp_test, Y_Pred_Comp))\n",
    "rmse_Comp"
   ]
  },
  {
   "cell_type": "code",
   "execution_count": 58,
   "metadata": {},
   "outputs": [
    {
     "name": "stdout",
     "output_type": "stream",
     "text": [
      "0.9250087630979349\n",
      "0.8530018738787735\n",
      "0.851173814611119\n"
     ]
    }
   ],
   "source": [
    "print(model_Sales.rsquared)\n",
    "print(model_SalesMulti.rsquared)\n",
    "print(model_Comp.rsquared)"
   ]
  },
  {
   "cell_type": "code",
   "execution_count": 65,
   "metadata": {},
   "outputs": [],
   "source": [
    "rsq_values = [model_Sales.rsquared, model_SalesMulti.rsquared, model_Comp.rsquared]\n",
    "models = [\"Sales_Single\",\"Sales_Multi\",\"ComputerSales\"]\n",
    "rmse_values = [rmse_Sales, rmse_SalesMulti, rmse_Comp]"
   ]
  },
  {
   "cell_type": "code",
   "execution_count": 67,
   "metadata": {},
   "outputs": [
    {
     "data": {
      "text/html": [
       "<div>\n",
       "<style scoped>\n",
       "    .dataframe tbody tr th:only-of-type {\n",
       "        vertical-align: middle;\n",
       "    }\n",
       "\n",
       "    .dataframe tbody tr th {\n",
       "        vertical-align: top;\n",
       "    }\n",
       "\n",
       "    .dataframe thead th {\n",
       "        text-align: right;\n",
       "    }\n",
       "</style>\n",
       "<table border=\"1\" class=\"dataframe\">\n",
       "  <thead>\n",
       "    <tr style=\"text-align: right;\">\n",
       "      <th></th>\n",
       "      <th>Models</th>\n",
       "      <th>R^2</th>\n",
       "      <th>RMSE</th>\n",
       "    </tr>\n",
       "  </thead>\n",
       "  <tbody>\n",
       "    <tr>\n",
       "      <th>0</th>\n",
       "      <td>Sales_Single</td>\n",
       "      <td>0.925009</td>\n",
       "      <td>109.420355</td>\n",
       "    </tr>\n",
       "    <tr>\n",
       "      <th>1</th>\n",
       "      <td>Sales_Multi</td>\n",
       "      <td>0.853002</td>\n",
       "      <td>42.076496</td>\n",
       "    </tr>\n",
       "    <tr>\n",
       "      <th>2</th>\n",
       "      <td>ComputerSales</td>\n",
       "      <td>0.851174</td>\n",
       "      <td>2678.261603</td>\n",
       "    </tr>\n",
       "  </tbody>\n",
       "</table>\n",
       "</div>"
      ],
      "text/plain": [
       "          Models       R^2         RMSE\n",
       "0   Sales_Single  0.925009   109.420355\n",
       "1    Sales_Multi  0.853002    42.076496\n",
       "2  ComputerSales  0.851174  2678.261603"
      ]
     },
     "execution_count": 67,
     "metadata": {},
     "output_type": "execute_result"
    }
   ],
   "source": [
    "metrics = pd.DataFrame({\"Models\": models,\"R^2\": rsq_values,  \"RMSE\": rmse_values})\n",
    "metrics"
   ]
  },
  {
   "cell_type": "markdown",
   "metadata": {},
   "source": [
    "Modelling with single feature for predicting SalesPerCapita has the highest r-squared and second highest RMSE score. However, when dependent variables become three, r-squared and RMSE values decrease. RMSE should be higher in case r-squared decreases, which should be investigated. Apart from that, in the model where ComputerSales is target variable, r-squared is the lowest and RMSE is the highest. "
   ]
  }
 ],
 "metadata": {
  "kernelspec": {
   "display_name": "Python 3",
   "language": "python",
   "name": "python3"
  },
  "language_info": {
   "codemirror_mode": {
    "name": "ipython",
    "version": 3
   },
   "file_extension": ".py",
   "mimetype": "text/x-python",
   "name": "python",
   "nbconvert_exporter": "python",
   "pygments_lexer": "ipython3",
   "version": "3.7.6"
  }
 },
 "nbformat": 4,
 "nbformat_minor": 4
}
